{
 "cells": [
  {
   "cell_type": "markdown",
   "metadata": {},
   "source": [
    "<div style = \"border: 1px white solid; background-color: black;\">\n",
    "<h2 style = \"color: Yellow; font-family: Papyrus;\">Korolova Anna</h2>\n",
    "<h5>Варіант 5<br>\n",
    "<em>«Основи роботи в середовищі JupyterNotebook»</em></h5>\n",
    "</div>"
   ]
  },
  {
   "cell_type": "markdown",
   "metadata": {},
   "source": [
    "<h5>Завдання 4</h5>\n",
    "\n",
    "<p><em>(За  допомогою  мови  Markdown  та  HTML  тегів  для  країни, відповідно  до  свого  номеру  варіанту,  ввести інформацію щодо площини, населення, державного устрою, видатних персоналій,  пам’яток  культури  та  природи  тощо.)</em></p>"
   ]
  },
  {
   "cell_type": "markdown",
   "metadata": {},
   "source": [
    "# Гана\n",
    "\n",
    "## Огляд\n",
    "\n",
    "Гана - країна, розташована на заході Африки.\n",
    "\n",
    "### Основні факти\n",
    "\n",
    "- **Площа:** 238,535 км²\n",
    "- **Населення:** близько 31 мільйона жителів\n",
    "- **Державний устрій:** Республіка\n",
    "- **Мови:** англійська (офіційна), африканські мови\n",
    "\n",
    "## Державний устрій\n",
    "\n",
    "Уряд Гани базується на конституційній республіці з президентською формою уряду.\n",
    "\n",
    "## Видатні персоналії\n",
    "\n",
    "1. **Кваме Нкрума** - перший президент незалежної Гани.\n",
    "2. **Джон Атта Мілс** - колишній президент та юрист.\n",
    "3. **Нана Аддо Данква Акюффо-Аддо** - нинішній президент Гани.\n",
    "\n",
    "## Пам'ятки культури та природи\n",
    "\n",
    "- **Форт Гельсен** - історична фортеця, що відображає колоніальну спадщину.\n",
    "- **Озеро Вольта** - найбільше штучне озеро в світі за площею.\n",
    "- **Національний парк Молоко** - багатий на флору та фауну національний парк.\n",
    "\n",
    "## Візуалізація\n",
    "\n",
    "<svg xmlns=\"http://www.w3.org/2000/svg\" width=\"900\" height=\"600\">\n",
    "  <path fill=\"#006b3f\" d=\"m0 0h900v600H0z\"/>\n",
    "  <path fill=\"#fcd116\" d=\"m0 0h900v400H00z\"/>\n",
    "  <path fill=\"#ce1126\" d=\"m0 0h900v200H0z\"/>\n",
    "  <path d=\"m450 200 64.98 200-170.13-123.61h210.3L385.02 400z\"/>\n",
    "</svg>\n",
    "\n",
    "## Зображення\n",
    "\n",
    "![котик](https://i.pinimg.com/736x/0b/66/ec/0b66ec606d37b97cf922a0de6f98c882.jpg)\n",
    "\n",
    "## Таблиця\n",
    "\n",
    "| Місто          | Населення (млн) | Площа (км²) |\n",
    "|----------------|-----------------|-------------|\n",
    "| Аккра          | 2.3             | 225         |\n",
    "| Кумасі         | 1.6             | 254         |\n",
    "| Тамале         | 0.7             | 167         |\n"
   ]
  },
  {
   "cell_type": "markdown",
   "metadata": {},
   "source": [
    "<h5>Завдання 5</h5>\n",
    "\n",
    "<p><em>(Розробити функцію  для  реалізації  алгоритму. Для  створеної  функції  реалізувати 2-3  тестові  приклади  в  комірках  ноутбуку.  Для  всіх  варіантів організувати контроль значень, що вводяться.)</em></p>"
   ]
  },
  {
   "cell_type": "code",
   "execution_count": 2,
   "metadata": {},
   "outputs": [
    {
     "name": "stdout",
     "output_type": "stream",
     "text": [
      "5-те просте число - це 11\n",
      "34-те просте число - це 139\n",
      "Введіть додатне число для знаходження k-го простого числа.\n"
     ]
    }
   ],
   "source": [
    "def is_prime(n):\n",
    "    \"\"\"Перевіряє, чи є число простим.\"\"\"\n",
    "    if n <= 1:\n",
    "        return False\n",
    "    for i in range(2, int(n ** 0.5) + 1):\n",
    "        if n % i == 0:\n",
    "            return False\n",
    "    return True\n",
    "\n",
    "def kth_prime(k):\n",
    "    \"\"\"Знаходить k-те просте число.\"\"\"\n",
    "    if k <= 0:\n",
    "        return \"Введіть додатне число для знаходження k-го простого числа.\"\n",
    "    \n",
    "    count = 0\n",
    "    num = 2\n",
    "    while True:\n",
    "        if is_prime(num):\n",
    "            count += 1\n",
    "            if count == k:\n",
    "                return f\"{k}-те просте число - це {num}\"\n",
    "        num += 1\n",
    "\n",
    "# Тест 1\n",
    "k = 5\n",
    "print(kth_prime(k))  # Повинно вивести \"5-те просте число - це 11\"\n",
    "\n",
    "# Тест 2\n",
    "k = 34\n",
    "print(kth_prime(k))  # Повинно вивести \"34-те просте число - це 139\"\n",
    "\n",
    "# Тест 3 (для недопустимого вводу)\n",
    "k = -10\n",
    "print(kth_prime(k))  # Повинно вивести \"Введіть додатне число для знаходження k-го простого числа.\"\n"
   ]
  },
  {
   "attachments": {
    "image.png": {
     "image/png": "[encoded data removed]"
    }
   },
   "cell_type": "markdown",
   "metadata": {},
   "source": [
    "![image.png](attachment:image.png)"
   ]
  }
 ],
 "metadata": {
  "kernelspec": {
   "display_name": "Python 3",
   "language": "python",
   "name": "python3"
  },
  "language_info": {
   "name": "python",
   "version": "3.10.5"
  }
 },
 "nbformat": 4,
 "nbformat_minor": 2
}
